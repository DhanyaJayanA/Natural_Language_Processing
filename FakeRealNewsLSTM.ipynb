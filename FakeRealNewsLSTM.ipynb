{
 "cells": [
  {
   "cell_type": "markdown",
   "metadata": {},
   "source": [
    "# FakeRealNewsClassifier"
   ]
  },
  {
   "cell_type": "code",
   "execution_count": 2,
   "metadata": {
    "execution": {
     "iopub.execute_input": "2021-09-03T07:30:19.977830Z",
     "iopub.status.busy": "2021-09-03T07:30:19.976919Z",
     "iopub.status.idle": "2021-09-03T07:30:19.981860Z",
     "shell.execute_reply": "2021-09-03T07:30:19.981125Z",
     "shell.execute_reply.started": "2021-09-03T07:16:58.402791Z"
    },
    "papermill": {
     "duration": 0.031604,
     "end_time": "2021-09-03T07:30:19.982024",
     "exception": false,
     "start_time": "2021-09-03T07:30:19.950420",
     "status": "completed"
    },
    "tags": []
   },
   "outputs": [],
   "source": [
    "import pandas as pd\n",
    "import numpy as np"
   ]
  },
  {
   "cell_type": "code",
   "execution_count": 3,
   "metadata": {
    "execution": {
     "iopub.execute_input": "2021-09-03T07:30:20.034678Z",
     "iopub.status.busy": "2021-09-03T07:30:20.033927Z",
     "iopub.status.idle": "2021-09-03T07:30:20.520073Z",
     "shell.execute_reply": "2021-09-03T07:30:20.519514Z",
     "shell.execute_reply.started": "2021-09-03T07:16:58.409188Z"
    },
    "papermill": {
     "duration": 0.514105,
     "end_time": "2021-09-03T07:30:20.520227",
     "exception": false,
     "start_time": "2021-09-03T07:30:20.006122",
     "status": "completed"
    },
    "tags": []
   },
   "outputs": [
    {
     "data": {
      "text/html": [
       "<div>\n",
       "<style scoped>\n",
       "    .dataframe tbody tr th:only-of-type {\n",
       "        vertical-align: middle;\n",
       "    }\n",
       "\n",
       "    .dataframe tbody tr th {\n",
       "        vertical-align: top;\n",
       "    }\n",
       "\n",
       "    .dataframe thead th {\n",
       "        text-align: right;\n",
       "    }\n",
       "</style>\n",
       "<table border=\"1\" class=\"dataframe\">\n",
       "  <thead>\n",
       "    <tr style=\"text-align: right;\">\n",
       "      <th></th>\n",
       "      <th>author</th>\n",
       "      <th>published</th>\n",
       "      <th>title</th>\n",
       "      <th>text</th>\n",
       "      <th>language</th>\n",
       "      <th>site_url</th>\n",
       "      <th>main_img_url</th>\n",
       "      <th>type</th>\n",
       "      <th>label</th>\n",
       "      <th>title_without_stopwords</th>\n",
       "      <th>text_without_stopwords</th>\n",
       "      <th>hasImage</th>\n",
       "    </tr>\n",
       "  </thead>\n",
       "  <tbody>\n",
       "    <tr>\n",
       "      <th>0</th>\n",
       "      <td>Barracuda Brigade</td>\n",
       "      <td>2016-10-26T21:41:00.000+03:00</td>\n",
       "      <td>muslims busted they stole millions in govt ben...</td>\n",
       "      <td>print they should pay all the back all the mon...</td>\n",
       "      <td>english</td>\n",
       "      <td>100percentfedup.com</td>\n",
       "      <td>http://bb4sp.com/wp-content/uploads/2016/10/Fu...</td>\n",
       "      <td>bias</td>\n",
       "      <td>Real</td>\n",
       "      <td>muslims busted stole millions govt benefits</td>\n",
       "      <td>print pay back money plus interest entire fami...</td>\n",
       "      <td>1.0</td>\n",
       "    </tr>\n",
       "    <tr>\n",
       "      <th>1</th>\n",
       "      <td>reasoning with facts</td>\n",
       "      <td>2016-10-29T08:47:11.259+03:00</td>\n",
       "      <td>re why did attorney general loretta lynch plea...</td>\n",
       "      <td>why did attorney general loretta lynch plead t...</td>\n",
       "      <td>english</td>\n",
       "      <td>100percentfedup.com</td>\n",
       "      <td>http://bb4sp.com/wp-content/uploads/2016/10/Fu...</td>\n",
       "      <td>bias</td>\n",
       "      <td>Real</td>\n",
       "      <td>attorney general loretta lynch plead fifth</td>\n",
       "      <td>attorney general loretta lynch plead fifth bar...</td>\n",
       "      <td>1.0</td>\n",
       "    </tr>\n",
       "    <tr>\n",
       "      <th>2</th>\n",
       "      <td>Barracuda Brigade</td>\n",
       "      <td>2016-10-31T01:41:49.479+02:00</td>\n",
       "      <td>breaking weiner cooperating with fbi on hillar...</td>\n",
       "      <td>red state  \\nfox news sunday reported this mor...</td>\n",
       "      <td>english</td>\n",
       "      <td>100percentfedup.com</td>\n",
       "      <td>http://bb4sp.com/wp-content/uploads/2016/10/Fu...</td>\n",
       "      <td>bias</td>\n",
       "      <td>Real</td>\n",
       "      <td>breaking weiner cooperating fbi hillary email ...</td>\n",
       "      <td>red state fox news sunday reported morning ant...</td>\n",
       "      <td>1.0</td>\n",
       "    </tr>\n",
       "  </tbody>\n",
       "</table>\n",
       "</div>"
      ],
      "text/plain": [
       "                 author                      published  \\\n",
       "0     Barracuda Brigade  2016-10-26T21:41:00.000+03:00   \n",
       "1  reasoning with facts  2016-10-29T08:47:11.259+03:00   \n",
       "2     Barracuda Brigade  2016-10-31T01:41:49.479+02:00   \n",
       "\n",
       "                                               title  \\\n",
       "0  muslims busted they stole millions in govt ben...   \n",
       "1  re why did attorney general loretta lynch plea...   \n",
       "2  breaking weiner cooperating with fbi on hillar...   \n",
       "\n",
       "                                                text language  \\\n",
       "0  print they should pay all the back all the mon...  english   \n",
       "1  why did attorney general loretta lynch plead t...  english   \n",
       "2  red state  \\nfox news sunday reported this mor...  english   \n",
       "\n",
       "              site_url                                       main_img_url  \\\n",
       "0  100percentfedup.com  http://bb4sp.com/wp-content/uploads/2016/10/Fu...   \n",
       "1  100percentfedup.com  http://bb4sp.com/wp-content/uploads/2016/10/Fu...   \n",
       "2  100percentfedup.com  http://bb4sp.com/wp-content/uploads/2016/10/Fu...   \n",
       "\n",
       "   type label                            title_without_stopwords  \\\n",
       "0  bias  Real        muslims busted stole millions govt benefits   \n",
       "1  bias  Real         attorney general loretta lynch plead fifth   \n",
       "2  bias  Real  breaking weiner cooperating fbi hillary email ...   \n",
       "\n",
       "                              text_without_stopwords  hasImage  \n",
       "0  print pay back money plus interest entire fami...       1.0  \n",
       "1  attorney general loretta lynch plead fifth bar...       1.0  \n",
       "2  red state fox news sunday reported morning ant...       1.0  "
      ]
     },
     "execution_count": 3,
     "metadata": {},
     "output_type": "execute_result"
    }
   ],
   "source": [
    "df=pd.read_csv(\"../input/source-based-news-classification/news_articles.csv\")\n",
    "df.head(3)"
   ]
  },
  {
   "cell_type": "code",
   "execution_count": 4,
   "metadata": {
    "execution": {
     "iopub.execute_input": "2021-09-03T07:30:20.574832Z",
     "iopub.status.busy": "2021-09-03T07:30:20.574128Z",
     "iopub.status.idle": "2021-09-03T07:30:20.577438Z",
     "shell.execute_reply": "2021-09-03T07:30:20.577997Z",
     "shell.execute_reply.started": "2021-09-03T07:16:58.916544Z"
    },
    "papermill": {
     "duration": 0.034705,
     "end_time": "2021-09-03T07:30:20.578177",
     "exception": false,
     "start_time": "2021-09-03T07:30:20.543472",
     "status": "completed"
    },
    "tags": []
   },
   "outputs": [
    {
     "data": {
      "text/plain": [
       "array(['bias', 'conspiracy', 'fake', 'bs', 'satire', 'hate', 'junksci',\n",
       "       'state', nan], dtype=object)"
      ]
     },
     "execution_count": 4,
     "metadata": {},
     "output_type": "execute_result"
    }
   ],
   "source": [
    "df[\"type\"].unique()"
   ]
  },
  {
   "cell_type": "code",
   "execution_count": 5,
   "metadata": {
    "execution": {
     "iopub.execute_input": "2021-09-03T07:30:20.631003Z",
     "iopub.status.busy": "2021-09-03T07:30:20.630090Z",
     "iopub.status.idle": "2021-09-03T07:30:20.634407Z",
     "shell.execute_reply": "2021-09-03T07:30:20.633776Z",
     "shell.execute_reply.started": "2021-09-03T07:16:58.927572Z"
    },
    "papermill": {
     "duration": 0.032932,
     "end_time": "2021-09-03T07:30:20.634546",
     "exception": false,
     "start_time": "2021-09-03T07:30:20.601614",
     "status": "completed"
    },
    "tags": []
   },
   "outputs": [
    {
     "data": {
      "text/plain": [
       "(2096, 12)"
      ]
     },
     "execution_count": 5,
     "metadata": {},
     "output_type": "execute_result"
    }
   ],
   "source": [
    "df.shape"
   ]
  },
  {
   "cell_type": "code",
   "execution_count": 6,
   "metadata": {
    "execution": {
     "iopub.execute_input": "2021-09-03T07:30:20.693898Z",
     "iopub.status.busy": "2021-09-03T07:30:20.693009Z",
     "iopub.status.idle": "2021-09-03T07:30:20.697100Z",
     "shell.execute_reply": "2021-09-03T07:30:20.696521Z",
     "shell.execute_reply.started": "2021-09-03T07:16:58.944700Z"
    },
    "papermill": {
     "duration": 0.03869,
     "end_time": "2021-09-03T07:30:20.697244",
     "exception": false,
     "start_time": "2021-09-03T07:30:20.658554",
     "status": "completed"
    },
    "tags": []
   },
   "outputs": [
    {
     "data": {
      "text/plain": [
       "author                      0\n",
       "published                   0\n",
       "title                       0\n",
       "text                       46\n",
       "language                    1\n",
       "site_url                    1\n",
       "main_img_url                1\n",
       "type                        1\n",
       "label                       1\n",
       "title_without_stopwords     2\n",
       "text_without_stopwords     50\n",
       "hasImage                    1\n",
       "dtype: int64"
      ]
     },
     "execution_count": 6,
     "metadata": {},
     "output_type": "execute_result"
    }
   ],
   "source": [
    "df.isnull().sum()"
   ]
  },
  {
   "cell_type": "code",
   "execution_count": 7,
   "metadata": {
    "execution": {
     "iopub.execute_input": "2021-09-03T07:30:20.749770Z",
     "iopub.status.busy": "2021-09-03T07:30:20.749105Z",
     "iopub.status.idle": "2021-09-03T07:30:20.774037Z",
     "shell.execute_reply": "2021-09-03T07:30:20.773426Z",
     "shell.execute_reply.started": "2021-09-03T07:16:58.965887Z"
    },
    "papermill": {
     "duration": 0.051987,
     "end_time": "2021-09-03T07:30:20.774189",
     "exception": false,
     "start_time": "2021-09-03T07:30:20.722202",
     "status": "completed"
    },
    "tags": []
   },
   "outputs": [],
   "source": [
    "df=df.dropna() #Drop Nan Values"
   ]
  },
  {
   "cell_type": "code",
   "execution_count": 8,
   "metadata": {
    "execution": {
     "iopub.execute_input": "2021-09-03T07:30:20.828781Z",
     "iopub.status.busy": "2021-09-03T07:30:20.828113Z",
     "iopub.status.idle": "2021-09-03T07:30:20.831320Z",
     "shell.execute_reply": "2021-09-03T07:30:20.830811Z",
     "shell.execute_reply.started": "2021-09-03T07:16:59.003723Z"
    },
    "papermill": {
     "duration": 0.032986,
     "end_time": "2021-09-03T07:30:20.831462",
     "exception": false,
     "start_time": "2021-09-03T07:30:20.798476",
     "status": "completed"
    },
    "tags": []
   },
   "outputs": [],
   "source": [
    "df.reset_index(inplace=True)"
   ]
  },
  {
   "cell_type": "code",
   "execution_count": 9,
   "metadata": {
    "execution": {
     "iopub.execute_input": "2021-09-03T07:30:20.885827Z",
     "iopub.status.busy": "2021-09-03T07:30:20.885001Z",
     "iopub.status.idle": "2021-09-03T07:30:21.972986Z",
     "shell.execute_reply": "2021-09-03T07:30:21.972411Z",
     "shell.execute_reply.started": "2021-09-03T07:16:59.011408Z"
    },
    "papermill": {
     "duration": 1.117392,
     "end_time": "2021-09-03T07:30:21.973138",
     "exception": false,
     "start_time": "2021-09-03T07:30:20.855746",
     "status": "completed"
    },
    "tags": []
   },
   "outputs": [
    {
     "name": "stdout",
     "output_type": "stream",
     "text": [
      "Fake    1291\n",
      "Real     754\n",
      "Name: label, dtype: int64\n"
     ]
    },
    {
     "data": {
      "text/plain": [
       "<AxesSubplot:xlabel='label', ylabel='count'>"
      ]
     },
     "execution_count": 9,
     "metadata": {},
     "output_type": "execute_result"
    },
    {
     "data": {
      "image/png": "[encoded data removed]",
      "text/plain": [
       "<Figure size 432x288 with 1 Axes>"
      ]
     },
     "metadata": {
      "needs_background": "light"
     },
     "output_type": "display_data"
    }
   ],
   "source": [
    "import seaborn as sns\n",
    "print(df.label.value_counts())\n",
    "sns.countplot(x=df[\"label\"])"
   ]
  },
  {
   "cell_type": "code",
   "execution_count": 10,
   "metadata": {
    "execution": {
     "iopub.execute_input": "2021-09-03T07:30:22.034312Z",
     "iopub.status.busy": "2021-09-03T07:30:22.033640Z",
     "iopub.status.idle": "2021-09-03T07:30:22.037826Z",
     "shell.execute_reply": "2021-09-03T07:30:22.037000Z",
     "shell.execute_reply.started": "2021-09-03T07:17:00.234835Z"
    },
    "papermill": {
     "duration": 0.038757,
     "end_time": "2021-09-03T07:30:22.038015",
     "exception": false,
     "start_time": "2021-09-03T07:30:21.999258",
     "status": "completed"
    },
    "tags": []
   },
   "outputs": [
    {
     "name": "stdout",
     "output_type": "stream",
     "text": [
      "[1 0]\n"
     ]
    }
   ],
   "source": [
    "df[\"label\"]=df.label.map({'Real':1,'Fake':0})\n",
    "print(df.label.unique())"
   ]
  },
  {
   "cell_type": "code",
   "execution_count": 11,
   "metadata": {
    "execution": {
     "iopub.execute_input": "2021-09-03T07:30:22.095615Z",
     "iopub.status.busy": "2021-09-03T07:30:22.094937Z",
     "iopub.status.idle": "2021-09-03T07:30:27.722232Z",
     "shell.execute_reply": "2021-09-03T07:30:27.722738Z",
     "shell.execute_reply.started": "2021-09-03T07:17:00.247879Z"
    },
    "papermill": {
     "duration": 5.658122,
     "end_time": "2021-09-03T07:30:27.722920",
     "exception": false,
     "start_time": "2021-09-03T07:30:22.064798",
     "status": "completed"
    },
    "tags": []
   },
   "outputs": [],
   "source": [
    "from keras.layers import Embedding, LSTM, Dense\n",
    "from keras.preprocessing.sequence import pad_sequences\n",
    "from keras.preprocessing.text import one_hot\n",
    "from keras.models import Sequential"
   ]
  },
  {
   "cell_type": "code",
   "execution_count": 12,
   "metadata": {
    "execution": {
     "iopub.execute_input": "2021-09-03T07:30:27.778064Z",
     "iopub.status.busy": "2021-09-03T07:30:27.777405Z",
     "iopub.status.idle": "2021-09-03T07:30:27.788432Z",
     "shell.execute_reply": "2021-09-03T07:30:27.787816Z",
     "shell.execute_reply.started": "2021-09-03T07:17:06.833083Z"
    },
    "papermill": {
     "duration": 0.039117,
     "end_time": "2021-09-03T07:30:27.788599",
     "exception": false,
     "start_time": "2021-09-03T07:30:27.749482",
     "status": "completed"
    },
    "tags": []
   },
   "outputs": [],
   "source": [
    "y=df['label']\n",
    "X = df['title_without_stopwords'] + ' ' + df['text_without_stopwords']"
   ]
  },
  {
   "cell_type": "code",
   "execution_count": 13,
   "metadata": {
    "execution": {
     "iopub.execute_input": "2021-09-03T07:30:27.845889Z",
     "iopub.status.busy": "2021-09-03T07:30:27.845236Z",
     "iopub.status.idle": "2021-09-03T07:30:27.848991Z",
     "shell.execute_reply": "2021-09-03T07:30:27.849503Z",
     "shell.execute_reply.started": "2021-09-03T07:17:06.848894Z"
    },
    "papermill": {
     "duration": 0.035468,
     "end_time": "2021-09-03T07:30:27.849724",
     "exception": false,
     "start_time": "2021-09-03T07:30:27.814256",
     "status": "completed"
    },
    "tags": []
   },
   "outputs": [],
   "source": [
    "X = X.astype(str)"
   ]
  },
  {
   "cell_type": "markdown",
   "metadata": {},
   "source": [
    "#### one hot representation"
   ]
  },
  {
   "cell_type": "code",
   "execution_count": 14,
   "metadata": {
    "execution": {
     "iopub.execute_input": "2021-09-03T07:30:27.904892Z",
     "iopub.status.busy": "2021-09-03T07:30:27.904263Z",
     "iopub.status.idle": "2021-09-03T07:30:28.313892Z",
     "shell.execute_reply": "2021-09-03T07:30:28.313334Z",
     "shell.execute_reply.started": "2021-09-03T07:17:06.864296Z"
    },
    "papermill": {
     "duration": 0.438066,
     "end_time": "2021-09-03T07:30:28.314048",
     "exception": false,
     "start_time": "2021-09-03T07:30:27.875982",
     "status": "completed"
    },
    "tags": []
   },
   "outputs": [],
   "source": [
    "voc_size=10000\n",
    "ohr=[one_hot(words,voc_size)for words in X]"
   ]
  },
  {
   "cell_type": "markdown",
   "metadata": {},
   "source": [
    "#### Embedding Representation"
   ]
  },
  {
   "cell_type": "code",
   "execution_count": 15,
   "metadata": {
    "execution": {
     "iopub.execute_input": "2021-09-03T07:30:28.370908Z",
     "iopub.status.busy": "2021-09-03T07:30:28.370246Z",
     "iopub.status.idle": "2021-09-03T07:30:28.430170Z",
     "shell.execute_reply": "2021-09-03T07:30:28.429373Z",
     "shell.execute_reply.started": "2021-09-03T07:17:07.293929Z"
    },
    "papermill": {
     "duration": 0.090234,
     "end_time": "2021-09-03T07:30:28.430362",
     "exception": false,
     "start_time": "2021-09-03T07:30:28.340128",
     "status": "completed"
    },
    "tags": []
   },
   "outputs": [
    {
     "name": "stdout",
     "output_type": "stream",
     "text": [
      "[[   0    0    0 ... 2767 1795 9953]\n",
      " [8634 4394 1981 ... 8331 6954 9953]\n",
      " [8148 3748 8307 ... 7174 4705 9953]\n",
      " ...\n",
      " [   0    0    0 ...  523 3307 7309]\n",
      " [1150 3063 6528 ... 4957 4986 1845]\n",
      " [   0    0    0 ...  519 6077 7816]]\n"
     ]
    }
   ],
   "source": [
    "sent_length=120\n",
    "emb_rep=pad_sequences(ohr,padding='pre',maxlen=sent_length)\n",
    "print(emb_rep)"
   ]
  },
  {
   "cell_type": "code",
   "execution_count": 16,
   "metadata": {
    "execution": {
     "iopub.execute_input": "2021-09-03T07:30:28.488031Z",
     "iopub.status.busy": "2021-09-03T07:30:28.487277Z",
     "iopub.status.idle": "2021-09-03T07:30:28.492165Z",
     "shell.execute_reply": "2021-09-03T07:30:28.491603Z",
     "shell.execute_reply.started": "2021-09-03T07:17:07.377427Z"
    },
    "papermill": {
     "duration": 0.035338,
     "end_time": "2021-09-03T07:30:28.492449",
     "exception": false,
     "start_time": "2021-09-03T07:30:28.457111",
     "status": "completed"
    },
    "tags": []
   },
   "outputs": [],
   "source": [
    "X=np.array(emb_rep)\n",
    "y=np.array(y)"
   ]
  },
  {
   "cell_type": "markdown",
   "metadata": {},
   "source": [
    "#### LSTM"
   ]
  },
  {
   "cell_type": "code",
   "execution_count": 17,
   "metadata": {
    "execution": {
     "iopub.execute_input": "2021-09-03T07:30:28.553590Z",
     "iopub.status.busy": "2021-09-03T07:30:28.552856Z",
     "iopub.status.idle": "2021-09-03T07:30:29.172485Z",
     "shell.execute_reply": "2021-09-03T07:30:29.171963Z",
     "shell.execute_reply.started": "2021-09-03T07:17:07.392228Z"
    },
    "papermill": {
     "duration": 0.653785,
     "end_time": "2021-09-03T07:30:29.172649",
     "exception": false,
     "start_time": "2021-09-03T07:30:28.518864",
     "status": "completed"
    },
    "tags": []
   },
   "outputs": [
    {
     "name": "stdout",
     "output_type": "stream",
     "text": [
      "Model: \"sequential\"\n",
      "_________________________________________________________________\n",
      "Layer (type)                 Output Shape              Param #   \n",
      "=================================================================\n",
      "embedding (Embedding)        (None, 120, 40)           400000    \n",
      "_________________________________________________________________\n",
      "lstm (LSTM)                  (None, 100)               56400     \n",
      "_________________________________________________________________\n",
      "dense (Dense)                (None, 1)                 101       \n",
      "=================================================================\n",
      "Total params: 456,501\n",
      "Trainable params: 456,501\n",
      "Non-trainable params: 0\n",
      "_________________________________________________________________\n",
      "None\n"
     ]
    }
   ],
   "source": [
    "embedding_vector_features=40\n",
    "model=Sequential()\n",
    "model.add(Embedding(voc_size,embedding_vector_features,input_length=sent_length))\n",
    "model.add(LSTM(100))\n",
    "model.add(Dense(1,activation='sigmoid'))\n",
    "model.compile(loss=\"binary_crossentropy\",optimizer='adam',metrics=['accuracy'])\n",
    "print(model.summary())"
   ]
  },
  {
   "cell_type": "code",
   "execution_count": 18,
   "metadata": {
    "execution": {
     "iopub.execute_input": "2021-09-03T07:30:29.231709Z",
     "iopub.status.busy": "2021-09-03T07:30:29.230890Z",
     "iopub.status.idle": "2021-09-03T07:30:29.413662Z",
     "shell.execute_reply": "2021-09-03T07:30:29.413037Z",
     "shell.execute_reply.started": "2021-09-03T07:17:08.036189Z"
    },
    "papermill": {
     "duration": 0.214529,
     "end_time": "2021-09-03T07:30:29.413834",
     "exception": false,
     "start_time": "2021-09-03T07:30:29.199305",
     "status": "completed"
    },
    "tags": []
   },
   "outputs": [],
   "source": [
    "# train test split\n",
    "from sklearn.model_selection import train_test_split\n",
    "X_train, X_test, y_train, y_test = train_test_split(X, y, test_size=0.33, random_state=42)"
   ]
  },
  {
   "cell_type": "code",
   "execution_count": 19,
   "metadata": {
    "execution": {
     "iopub.execute_input": "2021-09-03T07:30:29.474897Z",
     "iopub.status.busy": "2021-09-03T07:30:29.474190Z",
     "iopub.status.idle": "2021-09-03T07:31:06.345564Z",
     "shell.execute_reply": "2021-09-03T07:31:06.346131Z",
     "shell.execute_reply.started": "2021-09-03T07:17:08.247308Z"
    },
    "papermill": {
     "duration": 36.903416,
     "end_time": "2021-09-03T07:31:06.346322",
     "exception": false,
     "start_time": "2021-09-03T07:30:29.442906",
     "status": "completed"
    },
    "tags": []
   },
   "outputs": [
    {
     "name": "stdout",
     "output_type": "stream",
     "text": [
      "Epoch 1/10\n",
      "22/22 [==============================] - 6s 195ms/step - loss: 0.6814 - accuracy: 0.6040 - val_loss: 0.6427 - val_accuracy: 0.6548\n",
      "Epoch 2/10\n",
      "22/22 [==============================] - 4s 164ms/step - loss: 0.6255 - accuracy: 0.6208 - val_loss: 0.5617 - val_accuracy: 0.6770\n",
      "Epoch 3/10\n",
      "22/22 [==============================] - 3s 155ms/step - loss: 0.3515 - accuracy: 0.8582 - val_loss: 0.5409 - val_accuracy: 0.6963\n",
      "Epoch 4/10\n",
      "22/22 [==============================] - 3s 154ms/step - loss: 0.2653 - accuracy: 0.9432 - val_loss: 0.6960 - val_accuracy: 0.7170\n",
      "Epoch 5/10\n",
      "22/22 [==============================] - 3s 154ms/step - loss: 0.0637 - accuracy: 0.9875 - val_loss: 0.7737 - val_accuracy: 0.7126\n",
      "Epoch 6/10\n",
      "22/22 [==============================] - 3s 154ms/step - loss: 0.0416 - accuracy: 0.9906 - val_loss: 0.7903 - val_accuracy: 0.6978\n",
      "Epoch 7/10\n",
      "22/22 [==============================] - 3s 154ms/step - loss: 0.0279 - accuracy: 0.9922 - val_loss: 0.9493 - val_accuracy: 0.7007\n",
      "Epoch 8/10\n",
      "22/22 [==============================] - 3s 153ms/step - loss: 0.0190 - accuracy: 0.9933 - val_loss: 0.8459 - val_accuracy: 0.7037\n",
      "Epoch 9/10\n",
      "22/22 [==============================] - 3s 152ms/step - loss: 0.0194 - accuracy: 0.9946 - val_loss: 1.0188 - val_accuracy: 0.7007\n",
      "Epoch 10/10\n",
      "22/22 [==============================] - 3s 154ms/step - loss: 0.0148 - accuracy: 0.9949 - val_loss: 1.1434 - val_accuracy: 0.6993\n"
     ]
    },
    {
     "data": {
      "text/plain": [
       "<tensorflow.python.keras.callbacks.History at 0x7f9ec45685d0>"
      ]
     },
     "execution_count": 19,
     "metadata": {},
     "output_type": "execute_result"
    }
   ],
   "source": [
    "# fit model\n",
    "model.fit(X_train,y_train,validation_data=(X_test,y_test),epochs=10,batch_size=64)"
   ]
  },
  {
   "cell_type": "code",
   "execution_count": 20,
   "metadata": {
    "execution": {
     "iopub.execute_input": "2021-09-03T07:31:06.545191Z",
     "iopub.status.busy": "2021-09-03T07:31:06.544524Z",
     "iopub.status.idle": "2021-09-03T07:31:07.428448Z",
     "shell.execute_reply": "2021-09-03T07:31:07.428930Z",
     "shell.execute_reply.started": "2021-09-03T07:21:23.238522Z"
    },
    "papermill": {
     "duration": 0.986583,
     "end_time": "2021-09-03T07:31:07.429104",
     "exception": false,
     "start_time": "2021-09-03T07:31:06.442521",
     "status": "completed"
    },
    "tags": []
   },
   "outputs": [
    {
     "name": "stderr",
     "output_type": "stream",
     "text": [
      "/opt/conda/lib/python3.7/site-packages/tensorflow/python/keras/engine/sequential.py:450: UserWarning: `model.predict_classes()` is deprecated and will be removed after 2021-01-01. Please use instead:* `np.argmax(model.predict(x), axis=-1)`,   if your model does multi-class classification   (e.g. if it uses a `softmax` last-layer activation).* `(model.predict(x) > 0.5).astype(\"int32\")`,   if your model does binary classification   (e.g. if it uses a `sigmoid` last-layer activation).\n",
      "  warnings.warn('`model.predict_classes()` is deprecated and '\n"
     ]
    },
    {
     "name": "stdout",
     "output_type": "stream",
     "text": [
      "confusion_matrix: \n",
      " [[325 117]\n",
      " [ 86 147]]\n",
      "accuracy_score:  0.6992592592592592\n"
     ]
    }
   ],
   "source": [
    "from sklearn import metrics\n",
    "from sklearn.metrics import confusion_matrix, accuracy_score\n",
    "\n",
    "# Predicting from test data\n",
    "y_pred=model.predict_classes(X_test)\n",
    "\n",
    "#Creating confusion matrix\n",
    "cm = metrics.confusion_matrix(y_test, y_pred)\n",
    "print(\"confusion_matrix: \\n\",cm)\n",
    "print(\"accuracy_score: \",metrics.accuracy_score(y_test,y_pred))"
   ]
  },
  {
   "cell_type": "markdown",
   "metadata": {},
   "source": [
    "#### Bidirectional LSTM Model"
   ]
  },
  {
   "cell_type": "code",
   "execution_count": 21,
   "metadata": {
    "execution": {
     "iopub.execute_input": "2021-09-03T07:31:07.625607Z",
     "iopub.status.busy": "2021-09-03T07:31:07.624945Z",
     "iopub.status.idle": "2021-09-03T07:31:08.146336Z",
     "shell.execute_reply": "2021-09-03T07:31:08.144969Z",
     "shell.execute_reply.started": "2021-09-03T07:21:50.758531Z"
    },
    "papermill": {
     "duration": 0.620719,
     "end_time": "2021-09-03T07:31:08.146630",
     "exception": false,
     "start_time": "2021-09-03T07:31:07.525911",
     "status": "completed"
    },
    "tags": []
   },
   "outputs": [
    {
     "name": "stdout",
     "output_type": "stream",
     "text": [
      "Model: \"sequential_1\"\n",
      "_________________________________________________________________\n",
      "Layer (type)                 Output Shape              Param #   \n",
      "=================================================================\n",
      "embedding_1 (Embedding)      (None, 120, 40)           400000    \n",
      "_________________________________________________________________\n",
      "bidirectional (Bidirectional (None, 200)               112800    \n",
      "_________________________________________________________________\n",
      "dropout (Dropout)            (None, 200)               0         \n",
      "_________________________________________________________________\n",
      "dense_1 (Dense)              (None, 1)                 201       \n",
      "=================================================================\n",
      "Total params: 513,001\n",
      "Trainable params: 513,001\n",
      "Non-trainable params: 0\n",
      "_________________________________________________________________\n",
      "None\n"
     ]
    }
   ],
   "source": [
    "# Creating bidirectional lstm model\n",
    "from tensorflow.keras.layers import Bidirectional, Dropout\n",
    "embedding_vector_features=40\n",
    "model1=Sequential()\n",
    "model1.add(Embedding(voc_size,embedding_vector_features,input_length=sent_length))\n",
    "model1.add(Bidirectional(LSTM(100))) # Bidirectional LSTM layer\n",
    "model1.add(Dropout(0.3))\n",
    "model1.add(Dense(1,activation='sigmoid'))\n",
    "model1.compile(loss='binary_crossentropy',optimizer='adam',metrics=['accuracy'])\n",
    "print(model1.summary())"
   ]
  },
  {
   "cell_type": "code",
   "execution_count": 22,
   "metadata": {
    "execution": {
     "iopub.execute_input": "2021-09-03T07:31:08.349773Z",
     "iopub.status.busy": "2021-09-03T07:31:08.348801Z",
     "iopub.status.idle": "2021-09-03T07:31:58.230191Z",
     "shell.execute_reply": "2021-09-03T07:31:58.230690Z",
     "shell.execute_reply.started": "2021-09-03T07:22:00.574011Z"
    },
    "papermill": {
     "duration": 49.984623,
     "end_time": "2021-09-03T07:31:58.230901",
     "exception": false,
     "start_time": "2021-09-03T07:31:08.246278",
     "status": "completed"
    },
    "tags": []
   },
   "outputs": [
    {
     "name": "stdout",
     "output_type": "stream",
     "text": [
      "Epoch 1/10\n",
      "22/22 [==============================] - 9s 247ms/step - loss: 0.6789 - accuracy: 0.6066 - val_loss: 0.6451 - val_accuracy: 0.6548\n",
      "Epoch 2/10\n",
      "22/22 [==============================] - 5s 208ms/step - loss: 0.6410 - accuracy: 0.6251 - val_loss: 0.5887 - val_accuracy: 0.6681\n",
      "Epoch 3/10\n",
      "22/22 [==============================] - 5s 209ms/step - loss: 0.5767 - accuracy: 0.7427 - val_loss: 0.5900 - val_accuracy: 0.7378\n",
      "Epoch 4/10\n",
      "22/22 [==============================] - 4s 205ms/step - loss: 0.4742 - accuracy: 0.9013 - val_loss: 0.5277 - val_accuracy: 0.7126\n",
      "Epoch 5/10\n",
      "22/22 [==============================] - 4s 205ms/step - loss: 0.2789 - accuracy: 0.9348 - val_loss: 0.5564 - val_accuracy: 0.7333\n",
      "Epoch 6/10\n",
      "22/22 [==============================] - 5s 211ms/step - loss: 0.1067 - accuracy: 0.9731 - val_loss: 0.5628 - val_accuracy: 0.7289\n",
      "Epoch 7/10\n",
      "22/22 [==============================] - 5s 221ms/step - loss: 0.0612 - accuracy: 0.9908 - val_loss: 0.7715 - val_accuracy: 0.7081\n",
      "Epoch 8/10\n",
      "22/22 [==============================] - 5s 208ms/step - loss: 0.0283 - accuracy: 0.9908 - val_loss: 0.7066 - val_accuracy: 0.7067\n",
      "Epoch 9/10\n",
      "22/22 [==============================] - 5s 206ms/step - loss: 0.0295 - accuracy: 0.9909 - val_loss: 0.7510 - val_accuracy: 0.7096\n",
      "Epoch 10/10\n",
      "22/22 [==============================] - 5s 206ms/step - loss: 0.0196 - accuracy: 0.9933 - val_loss: 0.8328 - val_accuracy: 0.7200\n"
     ]
    },
    {
     "data": {
      "text/plain": [
       "<tensorflow.python.keras.callbacks.History at 0x7f9ebc478310>"
      ]
     },
     "execution_count": 22,
     "metadata": {},
     "output_type": "execute_result"
    }
   ],
   "source": [
    "# Fitting the model\n",
    "model1.fit(X_train,y_train,validation_data=(X_test,y_test),epochs=10,batch_size=64)"
   ]
  },
  {
   "cell_type": "code",
   "execution_count": 23,
   "metadata": {
    "execution": {
     "iopub.execute_input": "2021-09-03T07:31:58.569149Z",
     "iopub.status.busy": "2021-09-03T07:31:58.568421Z",
     "iopub.status.idle": "2021-09-03T07:31:59.846839Z",
     "shell.execute_reply": "2021-09-03T07:31:59.847421Z",
     "shell.execute_reply.started": "2021-09-03T07:23:01.059407Z"
    },
    "papermill": {
     "duration": 1.448904,
     "end_time": "2021-09-03T07:31:59.847621",
     "exception": false,
     "start_time": "2021-09-03T07:31:58.398717",
     "status": "completed"
    },
    "tags": []
   },
   "outputs": [
    {
     "data": {
      "text/plain": [
       "array([[368,  74],\n",
       "       [115, 118]])"
      ]
     },
     "execution_count": 23,
     "metadata": {},
     "output_type": "execute_result"
    }
   ],
   "source": [
    "y_pred1=model1.predict_classes(X_test)\n",
    "\n",
    "#Confusion matrix\n",
    "cm = metrics.confusion_matrix(y_test, y_pred1)\n",
    "cm"
   ]
  },
  {
   "cell_type": "code",
   "execution_count": 24,
   "metadata": {
    "execution": {
     "iopub.execute_input": "2021-09-03T07:32:00.191294Z",
     "iopub.status.busy": "2021-09-03T07:32:00.189698Z",
     "iopub.status.idle": "2021-09-03T07:32:00.194466Z",
     "shell.execute_reply": "2021-09-03T07:32:00.194973Z",
     "shell.execute_reply.started": "2021-09-03T07:23:05.263465Z"
    },
    "papermill": {
     "duration": 0.178869,
     "end_time": "2021-09-03T07:32:00.195147",
     "exception": false,
     "start_time": "2021-09-03T07:32:00.016278",
     "status": "completed"
    },
    "tags": []
   },
   "outputs": [
    {
     "data": {
      "text/plain": [
       "0.72"
      ]
     },
     "execution_count": 24,
     "metadata": {},
     "output_type": "execute_result"
    }
   ],
   "source": [
    "#Calculating Accuracy score\n",
    "accuracy_score(y_test,y_pred1)"
   ]
  },
  {
   "cell_type": "code",
   "execution_count": 25,
   "metadata": {
    "execution": {
     "iopub.execute_input": "2021-09-03T07:32:00.535332Z",
     "iopub.status.busy": "2021-09-03T07:32:00.534382Z",
     "iopub.status.idle": "2021-09-03T07:32:02.289544Z",
     "shell.execute_reply": "2021-09-03T07:32:02.288968Z",
     "shell.execute_reply.started": "2021-09-03T07:24:53.728666Z"
    },
    "papermill": {
     "duration": 1.927265,
     "end_time": "2021-09-03T07:32:02.289734",
     "exception": false,
     "start_time": "2021-09-03T07:32:00.362469",
     "status": "completed"
    },
    "tags": []
   },
   "outputs": [],
   "source": [
    "y_pred1=model1.predict_classes(X)\n",
    "df[\"prediction\"]=y_pred1"
   ]
  },
  {
   "cell_type": "code",
   "execution_count": 26,
   "metadata": {
    "execution": {
     "iopub.execute_input": "2021-09-03T07:32:02.639662Z",
     "iopub.status.busy": "2021-09-03T07:32:02.629969Z",
     "iopub.status.idle": "2021-09-03T07:32:02.643326Z",
     "shell.execute_reply": "2021-09-03T07:32:02.643894Z",
     "shell.execute_reply.started": "2021-09-03T07:25:59.794621Z"
    },
    "papermill": {
     "duration": 0.187054,
     "end_time": "2021-09-03T07:32:02.644066",
     "exception": false,
     "start_time": "2021-09-03T07:32:02.457012",
     "status": "completed"
    },
    "tags": []
   },
   "outputs": [
    {
     "data": {
      "text/html": [
       "<div>\n",
       "<style scoped>\n",
       "    .dataframe tbody tr th:only-of-type {\n",
       "        vertical-align: middle;\n",
       "    }\n",
       "\n",
       "    .dataframe tbody tr th {\n",
       "        vertical-align: top;\n",
       "    }\n",
       "\n",
       "    .dataframe thead th {\n",
       "        text-align: right;\n",
       "    }\n",
       "</style>\n",
       "<table border=\"1\" class=\"dataframe\">\n",
       "  <thead>\n",
       "    <tr style=\"text-align: right;\">\n",
       "      <th></th>\n",
       "      <th>label</th>\n",
       "      <th>prediction</th>\n",
       "    </tr>\n",
       "  </thead>\n",
       "  <tbody>\n",
       "    <tr>\n",
       "      <th>0</th>\n",
       "      <td>1</td>\n",
       "      <td>1</td>\n",
       "    </tr>\n",
       "    <tr>\n",
       "      <th>1</th>\n",
       "      <td>1</td>\n",
       "      <td>1</td>\n",
       "    </tr>\n",
       "    <tr>\n",
       "      <th>2</th>\n",
       "      <td>1</td>\n",
       "      <td>0</td>\n",
       "    </tr>\n",
       "    <tr>\n",
       "      <th>3</th>\n",
       "      <td>1</td>\n",
       "      <td>1</td>\n",
       "    </tr>\n",
       "    <tr>\n",
       "      <th>4</th>\n",
       "      <td>1</td>\n",
       "      <td>1</td>\n",
       "    </tr>\n",
       "    <tr>\n",
       "      <th>...</th>\n",
       "      <td>...</td>\n",
       "      <td>...</td>\n",
       "    </tr>\n",
       "    <tr>\n",
       "      <th>2040</th>\n",
       "      <td>1</td>\n",
       "      <td>1</td>\n",
       "    </tr>\n",
       "    <tr>\n",
       "      <th>2041</th>\n",
       "      <td>1</td>\n",
       "      <td>1</td>\n",
       "    </tr>\n",
       "    <tr>\n",
       "      <th>2042</th>\n",
       "      <td>1</td>\n",
       "      <td>1</td>\n",
       "    </tr>\n",
       "    <tr>\n",
       "      <th>2043</th>\n",
       "      <td>1</td>\n",
       "      <td>1</td>\n",
       "    </tr>\n",
       "    <tr>\n",
       "      <th>2044</th>\n",
       "      <td>1</td>\n",
       "      <td>1</td>\n",
       "    </tr>\n",
       "  </tbody>\n",
       "</table>\n",
       "<p>2045 rows × 2 columns</p>\n",
       "</div>"
      ],
      "text/plain": [
       "      label  prediction\n",
       "0         1           1\n",
       "1         1           1\n",
       "2         1           0\n",
       "3         1           1\n",
       "4         1           1\n",
       "...     ...         ...\n",
       "2040      1           1\n",
       "2041      1           1\n",
       "2042      1           1\n",
       "2043      1           1\n",
       "2044      1           1\n",
       "\n",
       "[2045 rows x 2 columns]"
      ]
     },
     "execution_count": 26,
     "metadata": {},
     "output_type": "execute_result"
    }
   ],
   "source": [
    "submission=df[[\"label\",\"prediction\"]]\n",
    "submission"
   ]
  },
  {
   "cell_type": "code",
   "execution_count": 27,
   "metadata": {
    "execution": {
     "iopub.execute_input": "2021-09-03T07:32:02.985181Z",
     "iopub.status.busy": "2021-09-03T07:32:02.984165Z",
     "iopub.status.idle": "2021-09-03T07:32:02.997849Z",
     "shell.execute_reply": "2021-09-03T07:32:02.997117Z",
     "shell.execute_reply.started": "2021-09-03T07:29:35.474201Z"
    },
    "papermill": {
     "duration": 0.185742,
     "end_time": "2021-09-03T07:32:02.998000",
     "exception": false,
     "start_time": "2021-09-03T07:32:02.812258",
     "status": "completed"
    },
    "tags": []
   },
   "outputs": [],
   "source": [
    "submission.to_csv(\"submission.csv\")"
   ]
  }
 ],
 "metadata": {
  "kernelspec": {
   "display_name": "Python 3",
   "language": "python",
   "name": "python3"
  },
  "language_info": {
   "codemirror_mode": {
    "name": "ipython",
    "version": 3
   },
   "file_extension": ".py",
   "mimetype": "text/x-python",
   "name": "python",
   "nbconvert_exporter": "python",
   "pygments_lexer": "ipython3",
   "version": "3.7.4"
  },
  "papermill": {
   "default_parameters": {},
   "duration": 113.886099,
   "end_time": "2021-09-03T07:32:05.490487",
   "environment_variables": {},
   "exception": null,
   "input_path": "__notebook__.ipynb",
   "output_path": "__notebook__.ipynb",
   "parameters": {},
   "start_time": "2021-09-03T07:30:11.604388",
   "version": "2.3.3"
  }
 },
 "nbformat": 4,
 "nbformat_minor": 5
}
